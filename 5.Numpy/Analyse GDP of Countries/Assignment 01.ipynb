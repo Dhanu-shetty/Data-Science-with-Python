{
 "cells": [
  {
   "cell_type": "markdown",
   "metadata": {},
   "source": [
    "<img src=\"http://cfs22.simplicdn.net/ice9/new_logo.svgz \"/>\n",
    "\n",
    "# Assignment 01: Evaluate the GDP Dataset\n",
    "\n",
    "*The comments/sections provided are your cues to perform the assignment. You don't need to limit yourself to the number of rows/cells provided. You can add additional rows in each section to add more lines of code.*\n",
    "\n",
    "*If at any point in time you need help on solving this assignment, view our demo video to understand the different steps of the code.*\n",
    "\n",
    "**Happy coding!**\n",
    "\n",
    "* * *"
   ]
  },
  {
   "cell_type": "markdown",
   "metadata": {},
   "source": [
    "#### 1: View and add the dataset"
   ]
  },
  {
   "cell_type": "code",
   "execution_count": 8,
   "metadata": {},
   "outputs": [],
   "source": [
    "#Import required library\n",
    "import numpy as np"
   ]
  },
  {
   "cell_type": "code",
   "execution_count": 130,
   "metadata": {},
   "outputs": [],
   "source": [
    "#Manually add the dataset\n",
    "country = np.array(['Algeria','Angola','Argentina','Australia','Austria','Bahamas','Bangladesh','Belarus','Belgium','Bhutan','Brazil','Bulgaria','Cambodia','Cameroon','Chile','China','Colombia','Cyprus','Denmark','El Salvador','Estonia','Ethiopia','Fiji','Finland','France','Georgia','Ghana','Grenada','Guinea','Haiti','Honduras','Hungary','India','Indonesia','Ireland','Italy','Japan','Kenya', 'South Korea','Liberia','Malaysia','Mexico', 'Morocco','Nepal','New Zealand','Norway','Pakistan', 'Peru','Qatar','Russia','Singapore','South Africa','Spain','Sweden','Switzerland','Thailand', 'United Arab Emirates','United Kingdom','United States','Uruguay','Venezuela','Vietnam','Zimbabwe'])\n",
    "GDP= np.array([2255.225482,629.9553062,11601.63022,25306.82494,27266.40335,19466.99052,588.3691778,2890.345675,24733.62696,1445.760002,4803.398244,2618.876037,590.4521124,665.7982328,7122.938458,2639.54156,3362.4656,15378.16704,30860.12808,2579.115607,6525.541272,229.6769525,2242.689259,27570.4852,23016.84778,1334.646773,402.6953275,6047.200797,394.1156638,385.5793827,1414.072488,5745.981529,837.7464011,1206.991065,27715.52837,18937.24998,39578.07441,478.2194906,16684.21278,279.2204061,5345.213415,6288.25324,1908.304416,274.8728621,14646.42094,40034.85063,672.1547506,3359.517402,36152.66676,3054.727742,33529.83052,3825.093781,15428.32098,33630.24604,39170.41371,2699.123242,21058.43643,28272.40661,37691.02733,9581.05659,5671.912202,757.4009286,347.7456605])"
   ]
  },
  {
   "cell_type": "markdown",
   "metadata": {
    "collapsed": true
   },
   "source": [
    "#### 2: Find and print the name of the country with the highest GDP"
   ]
  },
  {
   "cell_type": "code",
   "execution_count": 131,
   "metadata": {},
   "outputs": [
    {
     "data": {
      "text/plain": [
       "45"
      ]
     },
     "execution_count": 131,
     "metadata": {},
     "output_type": "execute_result"
    }
   ],
   "source": [
    "#Use the argmax() method to find the highest GDP\n",
    "max = np.argmax(GDP)\n",
    "max"
   ]
  },
  {
   "cell_type": "code",
   "execution_count": 132,
   "metadata": {},
   "outputs": [
    {
     "data": {
      "text/plain": [
       "'Norway'"
      ]
     },
     "execution_count": 132,
     "metadata": {},
     "output_type": "execute_result"
    }
   ],
   "source": [
    "#Print the name of the country\n",
    "country[max]"
   ]
  },
  {
   "cell_type": "markdown",
   "metadata": {},
   "source": [
    "#### 3: Find and print the name of the country with the lowest GDP"
   ]
  },
  {
   "cell_type": "code",
   "execution_count": 134,
   "metadata": {},
   "outputs": [
    {
     "data": {
      "text/plain": [
       "'Ethiopia'"
      ]
     },
     "execution_count": 134,
     "metadata": {},
     "output_type": "execute_result"
    }
   ],
   "source": [
    "#Use the argmin() method to find the lowest GDP\n",
    "min= np.argmin(GDP)\n",
    "country[min]"
   ]
  },
  {
   "cell_type": "markdown",
   "metadata": {
    "collapsed": true
   },
   "source": [
    "##### Print the name of the country\n",
    "data[min-1,0]"
   ]
  },
  {
   "cell_type": "markdown",
   "metadata": {},
   "source": [
    "#### 4: Print out text ('evaluating country') and input value ('country name') iteratively"
   ]
  },
  {
   "cell_type": "code",
   "execution_count": 135,
   "metadata": {},
   "outputs": [
    {
     "name": "stdout",
     "output_type": "stream",
     "text": [
      "Algeria\n",
      "Angola\n",
      "Argentina\n",
      "Australia\n",
      "Austria\n",
      "Bahamas\n",
      "Bangladesh\n",
      "Belarus\n",
      "Belgium\n",
      "Bhutan\n",
      "Brazil\n",
      "Bulgaria\n",
      "Cambodia\n",
      "Cameroon\n",
      "Chile\n",
      "China\n",
      "Colombia\n",
      "Cyprus\n",
      "Denmark\n",
      "El Salvador\n",
      "Estonia\n",
      "Ethiopia\n",
      "Fiji\n",
      "Finland\n",
      "France\n",
      "Georgia\n",
      "Ghana\n",
      "Grenada\n",
      "Guinea\n",
      "Haiti\n",
      "Honduras\n",
      "Hungary\n",
      "India\n",
      "Indonesia\n",
      "Ireland\n",
      "Italy\n",
      "Japan\n",
      "Kenya\n",
      "South Korea\n",
      "Liberia\n",
      "Malaysia\n",
      "Mexico\n",
      "Morocco\n",
      "Nepal\n",
      "New Zealand\n",
      "Norway\n",
      "Pakistan\n",
      "Peru\n",
      "Qatar\n",
      "Russia\n",
      "Singapore\n",
      "South Africa\n",
      "Spain\n",
      "Sweden\n",
      "Switzerland\n",
      "Thailand\n",
      "United Arab Emirates\n",
      "United Kingdom\n",
      "United States\n",
      "Uruguay\n",
      "Venezuela\n",
      "Vietnam\n",
      "Zimbabwe\n"
     ]
    }
   ],
   "source": [
    "#Use a for loop to print the required output\n",
    "for data1 in country:\n",
    "    print (data1)"
   ]
  },
  {
   "cell_type": "markdown",
   "metadata": {},
   "source": [
    "#### 5: Print out the entire list of the countries with their GDPs"
   ]
  },
  {
   "cell_type": "code",
   "execution_count": 151,
   "metadata": {},
   "outputs": [
    {
     "name": "stdout",
     "output_type": "stream",
     "text": [
      "Algeria GDP is = 2255.225482\n",
      "Angola GDP is = 629.9553062\n",
      "Argentina GDP is = 11601.63022\n",
      "Australia GDP is = 25306.82494\n",
      "Austria GDP is = 27266.40335\n",
      "Bahamas GDP is = 19466.99052\n",
      "Bangladesh GDP is = 588.3691778\n",
      "Belarus GDP is = 2890.345675\n",
      "Belgium GDP is = 24733.62696\n",
      "Bhutan GDP is = 1445.760002\n",
      "Brazil GDP is = 4803.398244\n",
      "Bulgaria GDP is = 2618.876037\n",
      "Cambodia GDP is = 590.4521124\n",
      "Cameroon GDP is = 665.7982328\n",
      "Chile GDP is = 7122.938458\n",
      "China GDP is = 2639.54156\n",
      "Colombia GDP is = 3362.4656\n",
      "Cyprus GDP is = 15378.16704\n",
      "Denmark GDP is = 30860.12808\n",
      "El Salvador GDP is = 2579.115607\n",
      "Estonia GDP is = 6525.541272\n",
      "Ethiopia GDP is = 229.6769525\n",
      "Fiji GDP is = 2242.689259\n",
      "Finland GDP is = 27570.4852\n",
      "France GDP is = 23016.84778\n",
      "Georgia GDP is = 1334.646773\n",
      "Ghana GDP is = 402.6953275\n",
      "Grenada GDP is = 6047.200797\n",
      "Guinea GDP is = 394.1156638\n",
      "Haiti GDP is = 385.5793827\n",
      "Honduras GDP is = 1414.072488\n",
      "Hungary GDP is = 5745.981529\n",
      "India GDP is = 837.7464011\n",
      "Indonesia GDP is = 1206.991065\n",
      "Ireland GDP is = 27715.52837\n",
      "Italy GDP is = 18937.24998\n",
      "Japan GDP is = 39578.07441\n",
      "Kenya GDP is = 478.2194906\n",
      "South Korea GDP is = 16684.21278\n",
      "Liberia GDP is = 279.2204061\n",
      "Malaysia GDP is = 5345.213415\n",
      "Mexico GDP is = 6288.25324\n",
      "Morocco GDP is = 1908.304416\n",
      "Nepal GDP is = 274.8728621\n",
      "New Zealand GDP is = 14646.42094\n",
      "Norway GDP is = 40034.85063\n",
      "Pakistan GDP is = 672.1547506\n",
      "Peru GDP is = 3359.517402\n",
      "Qatar GDP is = 36152.66676\n",
      "Russia GDP is = 3054.727742\n",
      "Singapore GDP is = 33529.83052\n",
      "South Africa GDP is = 3825.093781\n",
      "Spain GDP is = 15428.32098\n",
      "Sweden GDP is = 33630.24604\n",
      "Switzerland GDP is = 39170.41371\n",
      "Thailand GDP is = 2699.123242\n",
      "United Arab Emirates GDP is = 21058.43643\n",
      "United Kingdom GDP is = 28272.40661\n",
      "United States GDP is = 37691.02733\n",
      "Uruguay GDP is = 9581.05659\n",
      "Venezuela GDP is = 5671.912202\n",
      "Vietnam GDP is = 757.4009286\n",
      "Zimbabwe GDP is = 347.7456605\n"
     ]
    }
   ],
   "source": [
    "#Use a for loop to print the required list\n",
    "for data1 in range(np.size(country)):\n",
    "    print (country[data1],\"GDP is =\",GDP[data1])"
   ]
  },
  {
   "cell_type": "markdown",
   "metadata": {},
   "source": [
    "#### 6: Print the following:\n",
    "1. Highest GPD value\n",
    "2. Lowest GDP value\n",
    "3. Mean GDP value\n",
    "4. Standardized GDP value\n",
    "5. Sum of all the GDPs"
   ]
  },
  {
   "cell_type": "code",
   "execution_count": 155,
   "metadata": {},
   "outputs": [
    {
     "name": "stdout",
     "output_type": "stream",
     "text": [
      "Highest GPD value 40034.85063\n",
      "Lowest GDP value 229.6769525\n",
      "Mean GDP value 11289.409271639683\n",
      "Sum of all the GDPs 711232.7841133\n"
     ]
    }
   ],
   "source": [
    "print(\"Highest GPD value\",GDP[max])\n",
    "print(\"Lowest GDP value\",GDP[min])\n",
    "print(\"Mean GDP value\",np.mean(GDP))\n",
    "print(\"Sum of all the GDPs\",np.sum(GDP))"
   ]
  },
  {
   "cell_type": "code",
   "execution_count": null,
   "metadata": {},
   "outputs": [],
   "source": []
  }
 ],
 "metadata": {
  "kernelspec": {
   "display_name": "Python 3",
   "language": "python",
   "name": "python3"
  },
  "language_info": {
   "codemirror_mode": {
    "name": "ipython",
    "version": 3
   },
   "file_extension": ".py",
   "mimetype": "text/x-python",
   "name": "python",
   "nbconvert_exporter": "python",
   "pygments_lexer": "ipython3",
   "version": "3.8.5"
  }
 },
 "nbformat": 4,
 "nbformat_minor": 1
}
